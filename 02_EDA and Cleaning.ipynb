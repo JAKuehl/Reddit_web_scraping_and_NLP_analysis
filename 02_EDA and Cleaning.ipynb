{
 "cells": [
  {
   "cell_type": "code",
   "execution_count": 1,
   "metadata": {},
   "outputs": [],
   "source": [
    "# import libaries\n",
    "import pandas as pd\n",
    "import numpy as np\n",
    "from sklearn.model_selection import train_test_split, GridSearchCV\n",
    "from sklearn.pipeline import Pipeline\n",
    "from sklearn.linear_model import LogisticRegression\n",
    "from sklearn.feature_extraction.text import CountVectorizer, TfidfVectorizer\n",
    "from sklearn.naive_bayes import GaussianNB, BernoulliNB, MultinomialNB\n",
    "import warnings\n",
    "warnings.filterwarnings('ignore')\n",
    "warnings.simplefilter('ignore')"
   ]
  },
  {
   "cell_type": "markdown",
   "metadata": {},
   "source": [
    "# Data Science Process\n",
    "\n",
    "1. Define the problem.\n",
    "2. Obtain the data.\n",
    "3. **Explore the data.**\n",
    "4. Model the data.\n",
    "5. Evaluate the model.\n",
    "6. Answer the problem."
   ]
  },
  {
   "cell_type": "code",
   "execution_count": 2,
   "metadata": {},
   "outputs": [],
   "source": [
    "# Import data sets and merge them\n",
    "canon1 = pd.read_csv('./data/canon1.csv')\n",
    "canon2 = pd.read_csv('./data/canon2.csv')\n",
    "nikon1 = pd.read_csv('./data/nikon1.csv')\n",
    "nikon2 = pd.read_csv('./data/nikon2.csv')\n",
    "\n",
    "# The Sony subreddit was scraped for back up data and future expansion of project.\n",
    "sony1 = pd.read_csv('./data/sony1.csv')\n",
    "sony2 = pd.read_csv('./data/sony2.csv')\n",
    "\n",
    "# Merging by camera brand\n",
    "canon = canon1.append(canon2, ignore_index=True)\n",
    "nikon = nikon1.append(nikon2, ignore_index=True)\n",
    "sony = sony1.append(sony2, ignore_index=True)\n",
    "\n",
    "photo = canon.append(nikon, ignore_index=True)\n",
    "#photo = photo.append(sony, ignore_index=True)"
   ]
  },
  {
   "cell_type": "code",
   "execution_count": 3,
   "metadata": {},
   "outputs": [
    {
     "name": "stdout",
     "output_type": "stream",
     "text": [
      "<class 'pandas.core.frame.DataFrame'>\n",
      "RangeIndex: 2000 entries, 0 to 1999\n",
      "Data columns (total 3 columns):\n",
      " #   Column     Non-Null Count  Dtype \n",
      "---  ------     --------------  ----- \n",
      " 0   selftext   1047 non-null   object\n",
      " 1   subreddit  2000 non-null   object\n",
      " 2   title      2000 non-null   object\n",
      "dtypes: object(3)\n",
      "memory usage: 47.0+ KB\n"
     ]
    }
   ],
   "source": [
    "# Get a sense of the data\n",
    "photo = photo.drop(photo.columns.difference(['selftext', 'subreddit', 'title']), axis=1)\n",
    "photo.info()"
   ]
  },
  {
   "cell_type": "code",
   "execution_count": 4,
   "metadata": {},
   "outputs": [
    {
     "data": {
      "text/html": [
       "<div>\n",
       "<style scoped>\n",
       "    .dataframe tbody tr th:only-of-type {\n",
       "        vertical-align: middle;\n",
       "    }\n",
       "\n",
       "    .dataframe tbody tr th {\n",
       "        vertical-align: top;\n",
       "    }\n",
       "\n",
       "    .dataframe thead th {\n",
       "        text-align: right;\n",
       "    }\n",
       "</style>\n",
       "<table border=\"1\" class=\"dataframe\">\n",
       "  <thead>\n",
       "    <tr style=\"text-align: right;\">\n",
       "      <th></th>\n",
       "      <th>selftext</th>\n",
       "      <th>subreddit</th>\n",
       "      <th>title</th>\n",
       "    </tr>\n",
       "  </thead>\n",
       "  <tbody>\n",
       "    <tr>\n",
       "      <th>0</th>\n",
       "      <td>NA</td>\n",
       "      <td>canon</td>\n",
       "      <td>From a shoot last summer on the XC15, call me ...</td>\n",
       "    </tr>\n",
       "    <tr>\n",
       "      <th>1</th>\n",
       "      <td>So even though my Cannon MG7720 printer says i...</td>\n",
       "      <td>canon</td>\n",
       "      <td>Unable To Get Cannon 7720 Connected Wifi</td>\n",
       "    </tr>\n",
       "    <tr>\n",
       "      <th>2</th>\n",
       "      <td>NA</td>\n",
       "      <td>canon</td>\n",
       "      <td>Cannot Attach Sigma 16mm 1.4 to Canon M50</td>\n",
       "    </tr>\n",
       "    <tr>\n",
       "      <th>3</th>\n",
       "      <td>I’m wondering if anyone can point out a reliab...</td>\n",
       "      <td>canon</td>\n",
       "      <td>Canon 77D power</td>\n",
       "    </tr>\n",
       "    <tr>\n",
       "      <th>4</th>\n",
       "      <td>I'm trying to use the Canon EOS RP for a live ...</td>\n",
       "      <td>canon</td>\n",
       "      <td>Canon EOS RP clean HDMI out?</td>\n",
       "    </tr>\n",
       "    <tr>\n",
       "      <th>5</th>\n",
       "      <td>NA</td>\n",
       "      <td>canon</td>\n",
       "      <td>What lens is being used at the 4:40 mark in th...</td>\n",
       "    </tr>\n",
       "    <tr>\n",
       "      <th>6</th>\n",
       "      <td>NA</td>\n",
       "      <td>canon</td>\n",
       "      <td>Rebel T6</td>\n",
       "    </tr>\n",
       "    <tr>\n",
       "      <th>7</th>\n",
       "      <td>Hello, I hope you are all doing well. I took s...</td>\n",
       "      <td>canon</td>\n",
       "      <td>Canon rebel T7i Question</td>\n",
       "    </tr>\n",
       "    <tr>\n",
       "      <th>8</th>\n",
       "      <td>NA</td>\n",
       "      <td>canon</td>\n",
       "      <td>Question: RF 24-70 vs RF 24-105 for video? Wor...</td>\n",
       "    </tr>\n",
       "    <tr>\n",
       "      <th>9</th>\n",
       "      <td>NA</td>\n",
       "      <td>canon</td>\n",
       "      <td>Shutter Count (Canon 80D)</td>\n",
       "    </tr>\n",
       "  </tbody>\n",
       "</table>\n",
       "</div>"
      ],
      "text/plain": [
       "                                            selftext subreddit  \\\n",
       "0                                                 NA     canon   \n",
       "1  So even though my Cannon MG7720 printer says i...     canon   \n",
       "2                                                 NA     canon   \n",
       "3  I’m wondering if anyone can point out a reliab...     canon   \n",
       "4  I'm trying to use the Canon EOS RP for a live ...     canon   \n",
       "5                                                 NA     canon   \n",
       "6                                                 NA     canon   \n",
       "7  Hello, I hope you are all doing well. I took s...     canon   \n",
       "8                                                 NA     canon   \n",
       "9                                                 NA     canon   \n",
       "\n",
       "                                               title  \n",
       "0  From a shoot last summer on the XC15, call me ...  \n",
       "1           Unable To Get Cannon 7720 Connected Wifi  \n",
       "2          Cannot Attach Sigma 16mm 1.4 to Canon M50  \n",
       "3                                    Canon 77D power  \n",
       "4                       Canon EOS RP clean HDMI out?  \n",
       "5  What lens is being used at the 4:40 mark in th...  \n",
       "6                                           Rebel T6  \n",
       "7                           Canon rebel T7i Question  \n",
       "8  Question: RF 24-70 vs RF 24-105 for video? Wor...  \n",
       "9                          Shutter Count (Canon 80D)  "
      ]
     },
     "execution_count": 4,
     "metadata": {},
     "output_type": "execute_result"
    }
   ],
   "source": [
    "# Remove unneccessary columns and records\n",
    "photo = photo.fillna('NA') # instead of removing nulls marking them with NA\n",
    "# Canon has aggressive mods so a vast majority of posts were removed.  If I removed them there would parely be any data left.\n",
    "photo['selftext'] = np.where(photo['selftext'] == '[removed]', 'NA', photo['selftext'])  \n",
    "\n",
    "photo.head(10)"
   ]
  },
  {
   "cell_type": "code",
   "execution_count": 5,
   "metadata": {},
   "outputs": [
    {
     "data": {
      "text/plain": [
       "0"
      ]
     },
     "execution_count": 5,
     "metadata": {},
     "output_type": "execute_result"
    }
   ],
   "source": [
    "# Create features\n",
    "sum(photo.isnull().sum())"
   ]
  },
  {
   "cell_type": "code",
   "execution_count": 6,
   "metadata": {},
   "outputs": [
    {
     "data": {
      "text/html": [
       "<div>\n",
       "<style scoped>\n",
       "    .dataframe tbody tr th:only-of-type {\n",
       "        vertical-align: middle;\n",
       "    }\n",
       "\n",
       "    .dataframe tbody tr th {\n",
       "        vertical-align: top;\n",
       "    }\n",
       "\n",
       "    .dataframe thead th {\n",
       "        text-align: right;\n",
       "    }\n",
       "</style>\n",
       "<table border=\"1\" class=\"dataframe\">\n",
       "  <thead>\n",
       "    <tr style=\"text-align: right;\">\n",
       "      <th></th>\n",
       "      <th>selftext</th>\n",
       "      <th>subreddit</th>\n",
       "      <th>title</th>\n",
       "      <th>combo</th>\n",
       "    </tr>\n",
       "  </thead>\n",
       "  <tbody>\n",
       "    <tr>\n",
       "      <th>0</th>\n",
       "      <td>NA</td>\n",
       "      <td>1</td>\n",
       "      <td>From a shoot last summer on the XC15, call me ...</td>\n",
       "      <td>NA From a shoot last summer on the XC15, call ...</td>\n",
       "    </tr>\n",
       "    <tr>\n",
       "      <th>1</th>\n",
       "      <td>So even though my Cannon MG7720 printer says i...</td>\n",
       "      <td>1</td>\n",
       "      <td>Unable To Get Cannon 7720 Connected Wifi</td>\n",
       "      <td>So even though my Cannon MG7720 printer says i...</td>\n",
       "    </tr>\n",
       "    <tr>\n",
       "      <th>2</th>\n",
       "      <td>NA</td>\n",
       "      <td>1</td>\n",
       "      <td>Cannot Attach Sigma 16mm 1.4 to Canon M50</td>\n",
       "      <td>NA Cannot Attach Sigma 16mm 1.4 to Canon M50</td>\n",
       "    </tr>\n",
       "    <tr>\n",
       "      <th>3</th>\n",
       "      <td>I’m wondering if anyone can point out a reliab...</td>\n",
       "      <td>1</td>\n",
       "      <td>Canon 77D power</td>\n",
       "      <td>I’m wondering if anyone can point out a reliab...</td>\n",
       "    </tr>\n",
       "    <tr>\n",
       "      <th>4</th>\n",
       "      <td>I'm trying to use the Canon EOS RP for a live ...</td>\n",
       "      <td>1</td>\n",
       "      <td>Canon EOS RP clean HDMI out?</td>\n",
       "      <td>I'm trying to use the Canon EOS RP for a live ...</td>\n",
       "    </tr>\n",
       "  </tbody>\n",
       "</table>\n",
       "</div>"
      ],
      "text/plain": [
       "                                            selftext  subreddit  \\\n",
       "0                                                 NA          1   \n",
       "1  So even though my Cannon MG7720 printer says i...          1   \n",
       "2                                                 NA          1   \n",
       "3  I’m wondering if anyone can point out a reliab...          1   \n",
       "4  I'm trying to use the Canon EOS RP for a live ...          1   \n",
       "\n",
       "                                               title  \\\n",
       "0  From a shoot last summer on the XC15, call me ...   \n",
       "1           Unable To Get Cannon 7720 Connected Wifi   \n",
       "2          Cannot Attach Sigma 16mm 1.4 to Canon M50   \n",
       "3                                    Canon 77D power   \n",
       "4                       Canon EOS RP clean HDMI out?   \n",
       "\n",
       "                                               combo  \n",
       "0  NA From a shoot last summer on the XC15, call ...  \n",
       "1  So even though my Cannon MG7720 printer says i...  \n",
       "2       NA Cannot Attach Sigma 16mm 1.4 to Canon M50  \n",
       "3  I’m wondering if anyone can point out a reliab...  \n",
       "4  I'm trying to use the Canon EOS RP for a live ...  "
      ]
     },
     "execution_count": 6,
     "metadata": {},
     "output_type": "execute_result"
    }
   ],
   "source": [
    "#Combine text for larger analysis\n",
    "photo.insert(3, 'combo', photo['selftext'] + ' ' + photo['title'])\n",
    "photo['subreddit'] = photo['subreddit'].map({'canon':1, 'Nikon':0})\n",
    "photo.head()"
   ]
  },
  {
   "cell_type": "code",
   "execution_count": 7,
   "metadata": {},
   "outputs": [],
   "source": [
    "# Save the datasets\n",
    "canon.to_csv('./data/canon_merge.csv')\n",
    "nikon.to_csv('./data/nikon_merge.csv')\n",
    "sony.to_csv('./data/sony_merge.csv')\n",
    "photo.to_csv('./data/photo.csv')"
   ]
  },
  {
   "cell_type": "code",
   "execution_count": null,
   "metadata": {},
   "outputs": [],
   "source": []
  },
  {
   "cell_type": "code",
   "execution_count": null,
   "metadata": {},
   "outputs": [],
   "source": []
  }
 ],
 "metadata": {
  "kernelspec": {
   "display_name": "Python 3",
   "language": "python",
   "name": "python3"
  },
  "language_info": {
   "codemirror_mode": {
    "name": "ipython",
    "version": 3
   },
   "file_extension": ".py",
   "mimetype": "text/x-python",
   "name": "python",
   "nbconvert_exporter": "python",
   "pygments_lexer": "ipython3",
   "version": "3.7.7"
  }
 },
 "nbformat": 4,
 "nbformat_minor": 4
}
