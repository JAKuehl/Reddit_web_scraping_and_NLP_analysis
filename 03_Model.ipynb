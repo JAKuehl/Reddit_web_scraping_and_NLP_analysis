{
 "cells": [
  {
   "cell_type": "code",
   "execution_count": 1,
   "metadata": {},
   "outputs": [],
   "source": [
    "# import libraries\n",
    "import pandas as pd\n",
    "import numpy as np\n",
    "from nltk.stem import WordNetLemmatizer\n",
    "from nltk.tokenize import RegexpTokenizer\n",
    "import matplotlib.pyplot as plt\n",
    "import seaborn as sns\n",
    "import regex as re\n",
    "from sklearn.model_selection import train_test_split, GridSearchCV\n",
    "from sklearn.pipeline import Pipeline\n",
    "from sklearn.linear_model import LogisticRegression\n",
    "from sklearn.feature_extraction.text import CountVectorizer, TfidfVectorizer\n",
    "from sklearn.naive_bayes import GaussianNB, BernoulliNB, MultinomialNB\n",
    "from sklearn.metrics import confusion_matrix, plot_confusion_matrix, classification_report\n",
    "import warnings\n",
    "warnings.filterwarnings('ignore')\n",
    "warnings.simplefilter('ignore')"
   ]
  },
  {
   "cell_type": "markdown",
   "metadata": {},
   "source": [
    "# Data Science Process\n",
    "---\n",
    "\n",
    "1. Define the problem.\n",
    "2. Obtain the data.\n",
    "3. Explore the data.\n",
    "4. **Model the data.**\n",
    "5. **Evaluate the model.**\n",
    "6. **Answer the problem.**\n",
    "\n",
    "**Create and compare two models**. One of these must be a Bayes classifier, however the other can be a classifier of your choosing: logistic regression, KNN, SVM, etc."
   ]
  },
  {
   "cell_type": "code",
   "execution_count": 2,
   "metadata": {},
   "outputs": [
    {
     "data": {
      "text/html": [
       "<div>\n",
       "<style scoped>\n",
       "    .dataframe tbody tr th:only-of-type {\n",
       "        vertical-align: middle;\n",
       "    }\n",
       "\n",
       "    .dataframe tbody tr th {\n",
       "        vertical-align: top;\n",
       "    }\n",
       "\n",
       "    .dataframe thead th {\n",
       "        text-align: right;\n",
       "    }\n",
       "</style>\n",
       "<table border=\"1\" class=\"dataframe\">\n",
       "  <thead>\n",
       "    <tr style=\"text-align: right;\">\n",
       "      <th></th>\n",
       "      <th>Unnamed: 0</th>\n",
       "      <th>selftext</th>\n",
       "      <th>subreddit</th>\n",
       "      <th>title</th>\n",
       "      <th>combo</th>\n",
       "    </tr>\n",
       "  </thead>\n",
       "  <tbody>\n",
       "    <tr>\n",
       "      <th>0</th>\n",
       "      <td>0</td>\n",
       "      <td>NaN</td>\n",
       "      <td>1</td>\n",
       "      <td>From a shoot last summer on the XC15, call me ...</td>\n",
       "      <td>NA From a shoot last summer on the XC15, call ...</td>\n",
       "    </tr>\n",
       "    <tr>\n",
       "      <th>1</th>\n",
       "      <td>1</td>\n",
       "      <td>So even though my Cannon MG7720 printer says i...</td>\n",
       "      <td>1</td>\n",
       "      <td>Unable To Get Cannon 7720 Connected Wifi</td>\n",
       "      <td>So even though my Cannon MG7720 printer says i...</td>\n",
       "    </tr>\n",
       "  </tbody>\n",
       "</table>\n",
       "</div>"
      ],
      "text/plain": [
       "   Unnamed: 0                                           selftext  subreddit  \\\n",
       "0           0                                                NaN          1   \n",
       "1           1  So even though my Cannon MG7720 printer says i...          1   \n",
       "\n",
       "                                               title  \\\n",
       "0  From a shoot last summer on the XC15, call me ...   \n",
       "1           Unable To Get Cannon 7720 Connected Wifi   \n",
       "\n",
       "                                               combo  \n",
       "0  NA From a shoot last summer on the XC15, call ...  \n",
       "1  So even though my Cannon MG7720 printer says i...  "
      ]
     },
     "execution_count": 2,
     "metadata": {},
     "output_type": "execute_result"
    }
   ],
   "source": [
    "# Import datasets\n",
    "canon = pd.read_csv('./data/canon_merge.csv')\n",
    "nikon = pd.read_csv('./data/nikon_merge.csv')\n",
    "sony = pd.read_csv('./data/sony_merge.csv')\n",
    "photo = pd.read_csv('./data/photo.csv')\n",
    "photo.head(2)"
   ]
  },
  {
   "cell_type": "markdown",
   "metadata": {},
   "source": [
    "## Model 1\n",
    "---\n",
    "**Count Vectoirzer and Logistic Regression on Title Text**"
   ]
  },
  {
   "cell_type": "code",
   "execution_count": 3,
   "metadata": {},
   "outputs": [],
   "source": [
    "# Declare variables\n",
    "dep = photo['subreddit']\n",
    "indep = photo['title']\n",
    "\n",
    "#Train, test, split\n",
    "indep_train, indep_test, dep_train, dep_test = train_test_split(indep,\n",
    "                                                    dep,\n",
    "                                                    test_size=0.3,\n",
    "                                                    stratify=dep,\n",
    "                                                    random_state=42)\n",
    "\n",
    "\n",
    "# We are going to pipeline it for CountVectorizer\n",
    "pipe = Pipeline([\n",
    "    ('cvec', CountVectorizer()),\n",
    "    ('lr', LogisticRegression())\n",
    "])\n",
    "\n",
    "pipe_params = {\n",
    "    'cvec__max_features' : [100, 500, 1000],\n",
    "    'cvec__ngram_range' : [(1, 1), (1, 2), (1,3)],\n",
    "    'cvec__stop_words' : ['english', None]\n",
    "} \n",
    "\n",
    "# Instantiate GridSearchCV.\n",
    "\n",
    "gs = GridSearchCV(pipe, # what object are we optimizing?\n",
    "                  pipe_params, # what parameters values are we searching?\n",
    "                  cv = 5, # 5-fold cross-validation.\n",
    "                  n_jobs=6) \n",
    "\n",
    "# Fit GridSearch to training data.\n",
    "gs1 = gs.fit(indep_train, dep_train)\n"
   ]
  },
  {
   "cell_type": "code",
   "execution_count": 4,
   "metadata": {},
   "outputs": [
    {
     "data": {
      "text/plain": [
       "Pipeline(memory=None,\n",
       "         steps=[('cvec',\n",
       "                 CountVectorizer(analyzer='word', binary=False,\n",
       "                                 decode_error='strict',\n",
       "                                 dtype=<class 'numpy.int64'>, encoding='utf-8',\n",
       "                                 input='content', lowercase=True, max_df=1.0,\n",
       "                                 max_features=1000, min_df=1,\n",
       "                                 ngram_range=(1, 1), preprocessor=None,\n",
       "                                 stop_words='english', strip_accents=None,\n",
       "                                 token_pattern='(?u)\\\\b\\\\w\\\\w+\\\\b',\n",
       "                                 tokenizer=None, vocabulary=None)),\n",
       "                ('lr',\n",
       "                 LogisticRegression(C=1.0, class_weight=None, dual=False,\n",
       "                                    fit_intercept=True, intercept_scaling=1,\n",
       "                                    l1_ratio=None, max_iter=100,\n",
       "                                    multi_class='auto', n_jobs=None,\n",
       "                                    penalty='l2', random_state=None,\n",
       "                                    solver='lbfgs', tol=0.0001, verbose=0,\n",
       "                                    warm_start=False))],\n",
       "         verbose=False)"
      ]
     },
     "execution_count": 4,
     "metadata": {},
     "output_type": "execute_result"
    }
   ],
   "source": [
    "# Save best model as gs_model.\n",
    "gs_model = gs1.best_estimator_\n",
    "gs_model"
   ]
  },
  {
   "cell_type": "code",
   "execution_count": 5,
   "metadata": {},
   "outputs": [
    {
     "name": "stdout",
     "output_type": "stream",
     "text": [
      "0.9707142857142858\n",
      "0.8916666666666667\n"
     ]
    }
   ],
   "source": [
    "# Displaying scores for train and test sets\n",
    "print(gs_model.score(indep_train, dep_train))\n",
    "print(gs_model.score(indep_test, dep_test))"
   ]
  },
  {
   "cell_type": "code",
   "execution_count": 6,
   "metadata": {},
   "outputs": [
    {
     "data": {
      "text/plain": [
       "{'cvec__max_features': 1000,\n",
       " 'cvec__ngram_range': (1, 1),\n",
       " 'cvec__stop_words': 'english'}"
      ]
     },
     "execution_count": 6,
     "metadata": {},
     "output_type": "execute_result"
    }
   ],
   "source": [
    "# Checking for best parameters\n",
    "gs.best_params_"
   ]
  },
  {
   "cell_type": "code",
   "execution_count": 7,
   "metadata": {},
   "outputs": [
    {
     "data": {
      "image/png": "[encoded data removed]",
      "text/plain": [
       "<Figure size 720x360 with 4 Axes>"
      ]
     },
     "metadata": {
      "needs_background": "light"
     },
     "output_type": "display_data"
    }
   ],
   "source": [
    "# Plot cunfusion matrixs for test and train data.\n",
    "fig = plt.figure(figsize=(10,5))\n",
    "ax1 = fig.add_subplot(1,2,1)\n",
    "ax2 = fig.add_subplot(1,2,2)\n",
    "\n",
    "plot_confusion_matrix(gs, \n",
    "                      indep_train, \n",
    "                      dep_train, \n",
    "                      cmap=\"PuBu\", \n",
    "                      values_format='4g',\n",
    "                      ax=ax1);\n",
    "ax1.set_title('Train Confusion Matrix', fontsize=14);\n",
    "\n",
    "plot_confusion_matrix(gs, \n",
    "                      indep_test, \n",
    "                      dep_test, \n",
    "                      cmap=\"PuBu\", \n",
    "                      values_format='4g',\n",
    "                      ax=ax2);\n",
    "ax2.set_title('Test Confusion Matrix', fontsize=14);\n",
    "plt.tight_layout()"
   ]
  },
  {
   "cell_type": "code",
   "execution_count": 8,
   "metadata": {},
   "outputs": [
    {
     "name": "stdout",
     "output_type": "stream",
     "text": [
      "              precision    recall  f1-score   support\n",
      "\n",
      "           0       0.92      0.86      0.89       300\n",
      "           1       0.87      0.93      0.90       300\n",
      "\n",
      "    accuracy                           0.89       600\n",
      "   macro avg       0.89      0.89      0.89       600\n",
      "weighted avg       0.89      0.89      0.89       600\n",
      "\n"
     ]
    }
   ],
   "source": [
    "# Getting preds and running classification report for the best model\n",
    "preds_te = gs.predict(indep_test)\n",
    "print(classification_report(dep_test, preds_te))"
   ]
  },
  {
   "cell_type": "code",
   "execution_count": 9,
   "metadata": {},
   "outputs": [
    {
     "data": {
      "text/html": [
       "<div>\n",
       "<style scoped>\n",
       "    .dataframe tbody tr th:only-of-type {\n",
       "        vertical-align: middle;\n",
       "    }\n",
       "\n",
       "    .dataframe tbody tr th {\n",
       "        vertical-align: top;\n",
       "    }\n",
       "\n",
       "    .dataframe thead th {\n",
       "        text-align: right;\n",
       "    }\n",
       "</style>\n",
       "<table border=\"1\" class=\"dataframe\">\n",
       "  <thead>\n",
       "    <tr style=\"text-align: right;\">\n",
       "      <th></th>\n",
       "      <th>Word</th>\n",
       "      <th>Odds</th>\n",
       "    </tr>\n",
       "  </thead>\n",
       "  <tbody>\n",
       "    <tr>\n",
       "      <th>card</th>\n",
       "      <td>231</td>\n",
       "      <td>21.544840</td>\n",
       "    </tr>\n",
       "    <tr>\n",
       "      <th>bird</th>\n",
       "      <td>192</td>\n",
       "      <td>11.261387</td>\n",
       "    </tr>\n",
       "    <tr>\n",
       "      <th>installing</th>\n",
       "      <td>512</td>\n",
       "      <td>4.702170</td>\n",
       "    </tr>\n",
       "    <tr>\n",
       "      <th>tell</th>\n",
       "      <td>895</td>\n",
       "      <td>3.449999</td>\n",
       "    </tr>\n",
       "    <tr>\n",
       "      <th>good</th>\n",
       "      <td>457</td>\n",
       "      <td>3.414057</td>\n",
       "    </tr>\n",
       "  </tbody>\n",
       "</table>\n",
       "</div>"
      ],
      "text/plain": [
       "            Word       Odds\n",
       "card         231  21.544840\n",
       "bird         192  11.261387\n",
       "installing   512   4.702170\n",
       "tell         895   3.449999\n",
       "good         457   3.414057"
      ]
     },
     "execution_count": 9,
     "metadata": {},
     "output_type": "execute_result"
    }
   ],
   "source": [
    "# Extracting features and coefficients from the model\n",
    "logreg = gs.best_estimator_.named_steps['lr']\n",
    "odds = np.exp(logreg.coef_).T\n",
    "words = gs.best_estimator_.named_steps['cvec'].vocabulary_\n",
    "coeffs = pd.DataFrame.from_dict(words, orient='index', columns=['Word'])\n",
    "\n",
    "\n",
    "coeffs['Odds'] = odds\n",
    "coeffs = coeffs.sort_values(['Odds'], ascending=False)\n",
    "coeffs.head()"
   ]
  },
  {
   "cell_type": "markdown",
   "metadata": {},
   "source": [
    "#### This model predicts that the words card and picture will be highly predictive of a Canon reddti post."
   ]
  },
  {
   "cell_type": "markdown",
   "metadata": {},
   "source": [
    "# Model 2\n",
    "---\n",
    "**TFIDF Vectoirzer and Bernoulli Naive Bays on Title Text**"
   ]
  },
  {
   "cell_type": "code",
   "execution_count": 10,
   "metadata": {},
   "outputs": [],
   "source": [
    "# We are going to pipeline it for CountVectorizer\n",
    "pipe = Pipeline([\n",
    "    ('tvec', TfidfVectorizer()),\n",
    "    ('mn', BernoulliNB())\n",
    "])\n",
    "\n",
    "pipe_params = {\n",
    "    'tvec__max_features' : [100, 500, 1000],\n",
    "    'tvec__ngram_range' : [(1, 1), (1, 2), (1,3)],\n",
    "    'tvec__stop_words' : ['english', None]\n",
    "} \n",
    "\n",
    "# Instantiate GridSearchCV.\n",
    "\n",
    "gs = GridSearchCV(pipe, # what object are we optimizing?\n",
    "                  pipe_params, # what parameters values are we searching?\n",
    "                  cv = 5) # 5-fold cross-validation.\n",
    "\n",
    "# Fit GridSearch to training data.\n",
    "model_mn = gs.fit(indep_train, dep_train)\n",
    "\n"
   ]
  },
  {
   "cell_type": "code",
   "execution_count": 11,
   "metadata": {},
   "outputs": [
    {
     "name": "stdout",
     "output_type": "stream",
     "text": [
      "0.9057142857142857\n",
      "0.8933333333333333\n"
     ]
    }
   ],
   "source": [
    "# Displaying scores for train and test sets\n",
    "print(model_mn.score(indep_train, dep_train))\n",
    "print(model_mn.score(indep_test, dep_test))"
   ]
  },
  {
   "cell_type": "code",
   "execution_count": 12,
   "metadata": {},
   "outputs": [
    {
     "data": {
      "text/plain": [
       "{'tvec__max_features': 500,\n",
       " 'tvec__ngram_range': (1, 1),\n",
       " 'tvec__stop_words': 'english'}"
      ]
     },
     "execution_count": 12,
     "metadata": {},
     "output_type": "execute_result"
    }
   ],
   "source": [
    "# Checking for best parameters\n",
    "model_mn.best_params_"
   ]
  },
  {
   "cell_type": "code",
   "execution_count": 13,
   "metadata": {},
   "outputs": [
    {
     "data": {
      "text/plain": [
       "Pipeline(memory=None,\n",
       "         steps=[('tvec',\n",
       "                 TfidfVectorizer(analyzer='word', binary=False,\n",
       "                                 decode_error='strict',\n",
       "                                 dtype=<class 'numpy.float64'>,\n",
       "                                 encoding='utf-8', input='content',\n",
       "                                 lowercase=True, max_df=1.0, max_features=500,\n",
       "                                 min_df=1, ngram_range=(1, 1), norm='l2',\n",
       "                                 preprocessor=None, smooth_idf=True,\n",
       "                                 stop_words='english', strip_accents=None,\n",
       "                                 sublinear_tf=False,\n",
       "                                 token_pattern='(?u)\\\\b\\\\w\\\\w+\\\\b',\n",
       "                                 tokenizer=None, use_idf=True,\n",
       "                                 vocabulary=None)),\n",
       "                ('mn',\n",
       "                 BernoulliNB(alpha=1.0, binarize=0.0, class_prior=None,\n",
       "                             fit_prior=True))],\n",
       "         verbose=False)"
      ]
     },
     "execution_count": 13,
     "metadata": {},
     "output_type": "execute_result"
    }
   ],
   "source": [
    "# Save best model as gs_model.\n",
    "model_mn_b = model_mn.best_estimator_\n",
    "model_mn_b"
   ]
  },
  {
   "cell_type": "code",
   "execution_count": 14,
   "metadata": {},
   "outputs": [
    {
     "data": {
      "image/png": "[encoded data removed]",
      "text/plain": [
       "<Figure size 1008x576 with 4 Axes>"
      ]
     },
     "metadata": {
      "needs_background": "light"
     },
     "output_type": "display_data"
    }
   ],
   "source": [
    "# Generate predictions.\n",
    "preds = model_mn.predict(indep_test)\n",
    "# Confusion Matrix\n",
    "fig = plt.figure(figsize=(14,8))\n",
    "ax1 = fig.add_subplot(1,2,1)\n",
    "ax2 = fig.add_subplot(1,2,2)\n",
    "\n",
    "plot_confusion_matrix(model_mn, \n",
    "                      indep_train, \n",
    "                      dep_train, \n",
    "                      cmap=\"PuBu\", \n",
    "                      values_format='4g',\n",
    "                      ax=ax1);\n",
    "ax1.set_title('Train Confusion Matrix', fontsize=14);\n",
    "\n",
    "plot_confusion_matrix(model_mn, \n",
    "                      indep_test, \n",
    "                      dep_test, \n",
    "                      cmap=\"PuBu\", \n",
    "                      values_format='4g',\n",
    "                      ax=ax2);\n",
    "ax2.set_title('Test Confusion Matrix', fontsize=14);\n",
    "plt.tight_layout()"
   ]
  },
  {
   "cell_type": "code",
   "execution_count": 15,
   "metadata": {},
   "outputs": [
    {
     "name": "stdout",
     "output_type": "stream",
     "text": [
      "              precision    recall  f1-score   support\n",
      "\n",
      "           0       0.96      0.82      0.89       300\n",
      "           1       0.85      0.96      0.90       300\n",
      "\n",
      "    accuracy                           0.89       600\n",
      "   macro avg       0.90      0.89      0.89       600\n",
      "weighted avg       0.90      0.89      0.89       600\n",
      "\n"
     ]
    }
   ],
   "source": [
    "# Getting preds and running classification report for the best model\n",
    "preds_te = model_mn.predict(indep_test)\n",
    "print(classification_report(dep_test, preds))"
   ]
  },
  {
   "cell_type": "markdown",
   "metadata": {},
   "source": [
    "# Model 3\n",
    "---\n",
    "**Count Vectoirzer and Logistic Regression on Combination Text**"
   ]
  },
  {
   "cell_type": "code",
   "execution_count": 16,
   "metadata": {},
   "outputs": [],
   "source": [
    "# Declare variables\n",
    "dep = photo['subreddit']\n",
    "indep = photo['combo']\n",
    "\n",
    "#Train, test, split\n",
    "indep_train, indep_test, dep_train, dep_test = train_test_split(indep,\n",
    "                                                    dep,\n",
    "                                                    test_size=0.3,\n",
    "                                                    stratify=dep,\n",
    "                                                    random_state=42)\n",
    "\n",
    "\n",
    "# We are going to pipeline it for CountVectorizer\n",
    "pipe = Pipeline([\n",
    "    ('cvec', CountVectorizer()),\n",
    "    ('lr', LogisticRegression())\n",
    "])\n",
    "\n",
    "pipe_params = {\n",
    "    'cvec__max_features' : [100, 500, 1000],\n",
    "    'cvec__ngram_range' : [(1, 1), (1, 2), (1,3)],\n",
    "    'cvec__stop_words' : ['english', None]\n",
    "} \n",
    "\n",
    "# Instantiate GridSearchCV.\n",
    "\n",
    "gs = GridSearchCV(pipe, # what object are we optimizing?\n",
    "                  pipe_params, # what parameters values are we searching?\n",
    "                  cv = 5,     # 5-fold cross-validation.\n",
    "                 n_jobs=6) \n",
    "\n",
    "# Fit GridSearch to training data.\n",
    "gs2 = gs.fit(indep_train, dep_train)\n"
   ]
  },
  {
   "cell_type": "code",
   "execution_count": 17,
   "metadata": {},
   "outputs": [
    {
     "data": {
      "text/plain": [
       "Pipeline(memory=None,\n",
       "         steps=[('cvec',\n",
       "                 CountVectorizer(analyzer='word', binary=False,\n",
       "                                 decode_error='strict',\n",
       "                                 dtype=<class 'numpy.int64'>, encoding='utf-8',\n",
       "                                 input='content', lowercase=True, max_df=1.0,\n",
       "                                 max_features=1000, min_df=1,\n",
       "                                 ngram_range=(1, 1), preprocessor=None,\n",
       "                                 stop_words=None, strip_accents=None,\n",
       "                                 token_pattern='(?u)\\\\b\\\\w\\\\w+\\\\b',\n",
       "                                 tokenizer=None, vocabulary=None)),\n",
       "                ('lr',\n",
       "                 LogisticRegression(C=1.0, class_weight=None, dual=False,\n",
       "                                    fit_intercept=True, intercept_scaling=1,\n",
       "                                    l1_ratio=None, max_iter=100,\n",
       "                                    multi_class='auto', n_jobs=None,\n",
       "                                    penalty='l2', random_state=None,\n",
       "                                    solver='lbfgs', tol=0.0001, verbose=0,\n",
       "                                    warm_start=False))],\n",
       "         verbose=False)"
      ]
     },
     "execution_count": 17,
     "metadata": {},
     "output_type": "execute_result"
    }
   ],
   "source": [
    "# Checking for best parameters\n",
    "gs_model = gs2.best_estimator_\n",
    "gs_model"
   ]
  },
  {
   "cell_type": "code",
   "execution_count": 18,
   "metadata": {},
   "outputs": [
    {
     "name": "stdout",
     "output_type": "stream",
     "text": [
      "0.985\n",
      "0.9133333333333333\n"
     ]
    }
   ],
   "source": [
    "# Displaying scores for train and test sets\n",
    "print(gs_model.score(indep_train, dep_train))\n",
    "print(gs_model.score(indep_test, dep_test))"
   ]
  },
  {
   "cell_type": "code",
   "execution_count": 19,
   "metadata": {},
   "outputs": [
    {
     "data": {
      "text/plain": [
       "{'cvec__max_features': 1000,\n",
       " 'cvec__ngram_range': (1, 1),\n",
       " 'cvec__stop_words': None}"
      ]
     },
     "execution_count": 19,
     "metadata": {},
     "output_type": "execute_result"
    }
   ],
   "source": [
    "# Checking for best parameters\n",
    "gs2.best_params_"
   ]
  },
  {
   "cell_type": "code",
   "execution_count": 20,
   "metadata": {},
   "outputs": [
    {
     "data": {
      "text/html": [
       "<div>\n",
       "<style scoped>\n",
       "    .dataframe tbody tr th:only-of-type {\n",
       "        vertical-align: middle;\n",
       "    }\n",
       "\n",
       "    .dataframe tbody tr th {\n",
       "        vertical-align: top;\n",
       "    }\n",
       "\n",
       "    .dataframe thead th {\n",
       "        text-align: right;\n",
       "    }\n",
       "</style>\n",
       "<table border=\"1\" class=\"dataframe\">\n",
       "  <thead>\n",
       "    <tr style=\"text-align: right;\">\n",
       "      <th></th>\n",
       "      <th>Count</th>\n",
       "      <th>Odds</th>\n",
       "    </tr>\n",
       "  </thead>\n",
       "  <tbody>\n",
       "    <tr>\n",
       "      <th>price</th>\n",
       "      <td>670</td>\n",
       "      <td>18.097406</td>\n",
       "    </tr>\n",
       "    <tr>\n",
       "      <th>gets</th>\n",
       "      <td>392</td>\n",
       "      <td>9.453283</td>\n",
       "    </tr>\n",
       "    <tr>\n",
       "      <th>320</th>\n",
       "      <td>46</td>\n",
       "      <td>4.504765</td>\n",
       "    </tr>\n",
       "    <tr>\n",
       "      <th>unable</th>\n",
       "      <td>910</td>\n",
       "      <td>3.578014</td>\n",
       "    </tr>\n",
       "    <tr>\n",
       "      <th>sd</th>\n",
       "      <td>743</td>\n",
       "      <td>3.318328</td>\n",
       "    </tr>\n",
       "  </tbody>\n",
       "</table>\n",
       "</div>"
      ],
      "text/plain": [
       "        Count       Odds\n",
       "price     670  18.097406\n",
       "gets      392   9.453283\n",
       "320        46   4.504765\n",
       "unable    910   3.578014\n",
       "sd        743   3.318328"
      ]
     },
     "execution_count": 20,
     "metadata": {},
     "output_type": "execute_result"
    }
   ],
   "source": [
    "# Extracting features and coefficients from the model\n",
    "logreg = gs.best_estimator_.named_steps['lr']\n",
    "odds = np.exp(logreg.coef_).T\n",
    "words = gs.best_estimator_.named_steps['cvec'].vocabulary_\n",
    "coeffs = pd.DataFrame.from_dict(words, orient='index', columns=['Count'])\n",
    "\n",
    "\n",
    "coeffs['Odds'] = odds\n",
    "coeffs = coeffs.sort_values(['Odds'], ascending=False)\n",
    "coeffs.head()"
   ]
  },
  {
   "cell_type": "code",
   "execution_count": 21,
   "metadata": {},
   "outputs": [
    {
     "data": {
      "text/html": [
       "<div>\n",
       "<style scoped>\n",
       "    .dataframe tbody tr th:only-of-type {\n",
       "        vertical-align: middle;\n",
       "    }\n",
       "\n",
       "    .dataframe tbody tr th {\n",
       "        vertical-align: top;\n",
       "    }\n",
       "\n",
       "    .dataframe thead th {\n",
       "        text-align: right;\n",
       "    }\n",
       "</style>\n",
       "<table border=\"1\" class=\"dataframe\">\n",
       "  <thead>\n",
       "    <tr style=\"text-align: right;\">\n",
       "      <th></th>\n",
       "      <th>Count</th>\n",
       "      <th>Odds</th>\n",
       "    </tr>\n",
       "  </thead>\n",
       "  <tbody>\n",
       "    <tr>\n",
       "      <th>product</th>\n",
       "      <td>678</td>\n",
       "      <td>0.196040</td>\n",
       "    </tr>\n",
       "    <tr>\n",
       "      <th>picture</th>\n",
       "      <td>647</td>\n",
       "      <td>0.165179</td>\n",
       "    </tr>\n",
       "    <tr>\n",
       "      <th>we</th>\n",
       "      <td>948</td>\n",
       "      <td>0.125780</td>\n",
       "    </tr>\n",
       "    <tr>\n",
       "      <th>smid</th>\n",
       "      <td>790</td>\n",
       "      <td>0.091865</td>\n",
       "    </tr>\n",
       "    <tr>\n",
       "      <th>iv</th>\n",
       "      <td>474</td>\n",
       "      <td>0.044783</td>\n",
       "    </tr>\n",
       "  </tbody>\n",
       "</table>\n",
       "</div>"
      ],
      "text/plain": [
       "         Count      Odds\n",
       "product    678  0.196040\n",
       "picture    647  0.165179\n",
       "we         948  0.125780\n",
       "smid       790  0.091865\n",
       "iv         474  0.044783"
      ]
     },
     "execution_count": 21,
     "metadata": {},
     "output_type": "execute_result"
    }
   ],
   "source": [
    "# This shows the values most indicating Nikon\n",
    "coeffs.tail()  "
   ]
  },
  {
   "cell_type": "code",
   "execution_count": 22,
   "metadata": {
    "jupyter": {
     "source_hidden": true
    },
    "scrolled": true
   },
   "outputs": [
    {
     "data": {
      "image/png": "[encoded data removed]",
      "text/plain": [
       "<Figure size 720x360 with 4 Axes>"
      ]
     },
     "metadata": {
      "needs_background": "light"
     },
     "output_type": "display_data"
    }
   ],
   "source": [
    "# Generate predictions for test.\n",
    "#preds_te = gs.predict(indep_test)\n",
    "fig = plt.figure(figsize=(10,5))\n",
    "ax1 = fig.add_subplot(1,2,1)\n",
    "ax2 = fig.add_subplot(1,2,2)\n",
    "\n",
    "plot_confusion_matrix(gs2, \n",
    "                      indep_train, \n",
    "                      dep_train, \n",
    "                      cmap=\"PuBu\", \n",
    "                      values_format='4g',\n",
    "                      ax=ax1);\n",
    "ax1.set_title('Train Confusion Matrix', fontsize=14);\n",
    "\n",
    "plot_confusion_matrix(gs2, \n",
    "                      indep_test, \n",
    "                      dep_test, \n",
    "                      cmap=\"PuBu\", \n",
    "                      values_format='4g',\n",
    "                      ax=ax2);\n",
    "ax2.set_title('Test Confusion Matrix', fontsize=14);\n",
    "plt.tight_layout()"
   ]
  },
  {
   "cell_type": "code",
   "execution_count": 23,
   "metadata": {
    "collapsed": true,
    "jupyter": {
     "outputs_hidden": true
    }
   },
   "outputs": [
    {
     "name": "stdout",
     "output_type": "stream",
     "text": [
      "              precision    recall  f1-score   support\n",
      "\n",
      "           0       0.94      0.88      0.91       300\n",
      "           1       0.89      0.95      0.92       300\n",
      "\n",
      "    accuracy                           0.91       600\n",
      "   macro avg       0.92      0.91      0.91       600\n",
      "weighted avg       0.92      0.91      0.91       600\n",
      "\n"
     ]
    }
   ],
   "source": [
    "# Getting preds and running classification report for the best model\n",
    "preds = gs2.predict(indep_test)\n",
    "print(classification_report(dep_test, preds))"
   ]
  },
  {
   "cell_type": "code",
   "execution_count": 24,
   "metadata": {
    "scrolled": true
   },
   "outputs": [
    {
     "data": {
      "image/png": "[encoded data removed]",
      "text/plain": [
       "<Figure size 288x576 with 2 Axes>"
      ]
     },
     "metadata": {
      "needs_background": "light"
     },
     "output_type": "display_data"
    }
   ],
   "source": [
    "# Looking at top preforming features that indicate a Canon post\n",
    "coeffs1 = coeffs.drop(labels='Count', axis=1)\n",
    "top_features = coeffs1[coeffs1[\"Odds\"] > 2]\n",
    "\n",
    "plt.figure(figsize=(4,8))\n",
    "sns.heatmap(top_features.sort_values('Odds', ascending=False), annot=True);"
   ]
  },
  {
   "cell_type": "code",
   "execution_count": 25,
   "metadata": {},
   "outputs": [
    {
     "data": {
      "image/png": "[encoded data removed]",
      "text/plain": [
       "<Figure size 288x576 with 2 Axes>"
      ]
     },
     "metadata": {
      "needs_background": "light"
     },
     "output_type": "display_data"
    }
   ],
   "source": [
    "# Looking at top preforming features that indicate a Nikon post\n",
    "bot_features = coeffs1[coeffs1[\"Odds\"] < .5]\n",
    "\n",
    "\n",
    "plt.figure(figsize=(4,8))\n",
    "sns.heatmap(bot_features.sort_values('Odds'), annot=True);"
   ]
  },
  {
   "cell_type": "code",
   "execution_count": null,
   "metadata": {},
   "outputs": [],
   "source": []
  }
 ],
 "metadata": {
  "kernelspec": {
   "display_name": "Python 3",
   "language": "python",
   "name": "python3"
  },
  "language_info": {
   "codemirror_mode": {
    "name": "ipython",
    "version": 3
   },
   "file_extension": ".py",
   "mimetype": "text/x-python",
   "name": "python",
   "nbconvert_exporter": "python",
   "pygments_lexer": "ipython3",
   "version": "3.8.1"
  }
 },
 "nbformat": 4,
 "nbformat_minor": 4
}
